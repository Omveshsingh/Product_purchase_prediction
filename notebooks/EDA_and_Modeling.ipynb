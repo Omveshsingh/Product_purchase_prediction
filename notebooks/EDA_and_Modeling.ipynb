{
 "cells": [
  {
   "cell_type": "code",
   "execution_count": null,
   "id": "7a20f680",
   "metadata": {},
   "outputs": [],
   "source": [
    "import pandas as pd\n",
    "import numpy as np\n",
    "from sklearn.model_selection import train_test_split\n",
    "from sklearn.preprocessing import LabelEncoder, StandardScaler\n",
    "from sklearn.linear_model import LogisticRegression\n",
    "from sklearn.tree import DecisionTreeClassifier\n",
    "from sklearn.ensemble import RandomForestClassifier\n",
    "from sklearn.metrics import classification_report, accuracy_score, confusion_matrix\n",
    "import pickle"
   ]
  },
  {
   "cell_type": "code",
   "execution_count": null,
   "id": "e717ac8e",
   "metadata": {},
   "outputs": [],
   "source": [
    "import pandas as pd\n",
    "\n",
    "df = pd.read_csv(\"D:\\product_purchase_prediction\\data\\product_purchase_ - product_purchase_impure.csv.csv\")\n",
    "\n",
    "df_clean = df.dropna(subset=[\"Purchase\"])\n",
    "\n",
    "# Fill missing values in numerical columns with median\n",
    "for col in [\"TimeOnSite\", \"Age\", \"AdsClicked\", \"PreviousPurchases\"]:\n",
    "    df_clean[col].fillna(df_clean[col].median(), inplace=True)\n",
    "\n",
    "df_clean[\"Gender\"] = df_clean[\"Gender\"].map({\"Male\": 1, \"Female\": 0})"
   ]
  },
  {
   "cell_type": "code",
   "execution_count": null,
   "id": "bf861d23",
   "metadata": {},
   "outputs": [],
   "source": [
    "import matplotlib.pyplot as plt\n",
    "import seaborn as sns\n",
    "\n",
    "sns.set(style=\"whitegrid\")\n",
    "fig, axes = plt.subplots(3, 2, figsize=(14, 12))\n",
    "fig.suptitle(\"Feature Distributions by Purchase Outcome\", fontsize=16)\n",
    "\n",
    "features = ['TimeOnSite', 'Age', 'Gender', 'AdsClicked', 'PreviousPurchases']\n",
    "for ax, feature in zip(axes.flatten(), features):\n",
    "    sns.boxplot(x='Purchase', y=feature, data=df_clean, ax=ax, palette=\"Set2\")\n",
    "    ax.set_title(f'{feature} vs Purchase')\n",
    "\n",
    "axes[2][1].axis('off')  # Hide unused subplot\n",
    "plt.tight_layout(rect=[0, 0.03, 1, 0.95])\n",
    "plt.show()"
   ]
  },
  {
   "cell_type": "code",
   "execution_count": null,
   "id": "5f04108f",
   "metadata": {},
   "outputs": [],
   "source": [
    "# Encode gender\n",
    "#df['Gender'] = LabelEncoder().fit_transform(df['Gender'])  # M=1, F=0\n",
    "\n",
    "X = df_clean.drop(\"Purchase\", axis=1)\n",
    "y = df_clean[\"Purchase\"].astype(int)\n",
    "\n",
    "# Scale features\n",
    "scaler = StandardScaler()\n",
    "X_scaled = scaler.fit_transform(X)\n",
    "\n",
    "# Train-test split\n",
    "X_train, X_test, y_train, y_test = train_test_split(X, y, test_size=0.2, random_state=42)"
   ]
  },
  {
   "cell_type": "code",
   "execution_count": null,
   "id": "b7602af8",
   "metadata": {},
   "outputs": [],
   "source": [
    "# Logistic Regression\n",
    "log_model = LogisticRegression(max_iter=25)\n",
    "log_model.fit(X_train, y_train)\n",
    "\n",
    "# Decision Tree\n",
    "tree_model = DecisionTreeClassifier()\n",
    "tree_model.fit(X_train, y_train)\n",
    "# Random Forest\n",
    "rf_model = RandomForestClassifier(n_estimators=100, random_state=42)    \n",
    "rf_model.fit(X_train, y_train)"
   ]
  },
  {
   "cell_type": "code",
   "execution_count": null,
   "id": "e108a7c6",
   "metadata": {},
   "outputs": [],
   "source": [
    "models = {'Logistic Regression': log_model, 'Decision Tree': tree_model,'RandomForestClassifier': rf_model}\n",
    "\n",
    "for name, model in models.items():\n",
    "    print(f\"\\nModel: {name}\")\n",
    "    y_pred = model.predict(X_test)\n",
    "    print(\"Accuracy:\", accuracy_score(y_test, y_pred))\n",
    "    print(\"Classification Report:\\n\", classification_report(y_test, y_pred))\n",
    "    print(\"Confusion Matrix:\\n\", confusion_matrix(y_test, y_pred))"
   ]
  },
  {
   "cell_type": "code",
   "execution_count": null,
   "id": "a60483ef",
   "metadata": {},
   "outputs": [],
   "source": [
    "with open(\"D:\\product_purchase_prediction\\model\\logistic_model.pkl\", \"wb\") as f:\n",
    "    pickle.dump(log_model, f)\n",
    "\n",
    "with open(\"D:\\product_purchase_prediction\\model\\decision_tree_model.pkl\", \"wb\") as f:\n",
    "    pickle.dump(tree_model, f)"
   ]
  },
  {
   "cell_type": "code",
   "execution_count": null,
   "id": "804c8223",
   "metadata": {},
   "outputs": [],
   "source": [
    "with open(r\"D:\\product_purchase_prediction\\model\\random_forest_model.pkl\", \"wb\") as f:\n",
    "    pickle.dump(rf_model, f)"
   ]
  }
 ],
 "metadata": {
  "language_info": {
   "name": "python"
  }
 },
 "nbformat": 4,
 "nbformat_minor": 5
}
